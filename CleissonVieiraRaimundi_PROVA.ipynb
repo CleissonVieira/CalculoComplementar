{
  "nbformat": 4,
  "nbformat_minor": 0,
  "metadata": {
    "colab": {
      "name": "CalculoComplementar.ipynb",
      "provenance": [],
      "collapsed_sections": []
    },
    "kernelspec": {
      "name": "python3",
      "display_name": "Python 3"
    }
  },
  "cells": [
    {
      "cell_type": "markdown",
      "metadata": {
        "id": "4FyTrWM4CN0a",
        "colab_type": "text"
      },
      "source": [
        "**Problema 01:** Estima-se que a produção semanal de uma fábrica é dada pela função f(x,\n",
        "y) = 1.200x+ 500y+ x\n",
        "2 y – x\n",
        "3\n",
        "– y\n",
        "2\n",
        "unidades, onde x é o número de operários\n",
        "especializados e y o número de operários não especializados utilizados no trabalho. No\n",
        "momento, a mão de obra disponível é constituída por 30 operários especializados e 60\n",
        "operários não especializados. Use a análise marginal para estimar a variação da\n",
        "produção se mais 1 operário especializado for contratado e o número de operários não\n",
        "especializado permanecer constante.\n",
        "\n",
        "• Através da leitura do problema extrair os dados e elementos desconhecidos.\n",
        "\n",
        "  ◦ Análise Marginal: em economia se refere ao uso de uma derivada para estimar\n",
        "a variação do valor de uma função em consequência de uma mudança no valor\n",
        "de uma das variáveis.\n",
        "\n",
        "  ◦ Taxa de Variação: calcular a função com uma das variáveis enquanto a outra\n",
        "permanece constante, o que corresponde a derivar a função em relação a uma\n",
        "das variáveis mantendo fixa a outra variável. Este processo é conhecido como\n",
        "derivação parcial; a derivada resultante é chamada de derivada parcial da\n",
        "função.\n",
        "\n",
        "• Determinar e interpretar os dados do problema. A fábrica possui operários\n",
        "especializados e não especializados para produção semanal em unidades.\n",
        "\n",
        "  ◦ A mão de obra disponível é constituída por 30 operários especializados.\n",
        "\n",
        "  ◦ 60 operários não especializados.\n",
        "\n",
        "• O objetivo do problema é determinar a variação da produção se mais 1 operário\n",
        "especializado for contratado e o número de operários não especializado\n",
        "permanecer constante.\n",
        "\n",
        "**Solução do modelo matemático**\n",
        "\n",
        "**Interpretação da solução**"
      ]
    },
    {
      "cell_type": "code",
      "metadata": {
        "id": "Pu4M0IvDCSlH",
        "colab_type": "code",
        "colab": {
          "base_uri": "https://localhost:8080/",
          "height": 53
        },
        "outputId": "08ddee1d-bf2f-4793-ca4c-22b112a0360f"
      },
      "source": [
        "import numpy as np\n",
        "import sympy as sp\n",
        "\n",
        "simb_x, simb_y, simb_z = sp.symbols('x y z')\n",
        "f = 1200 * simb_x + 500 * simb_y + simb_x**2 * simb_y - simb_x**3 - simb_y**2\n",
        "\n",
        "linha_f = sp.diff(f, simb_x)\n",
        "z = lambda x, y: eval(str(linha_f))\n",
        "print('Análise marginal: ', z(30, 60))\n",
        "\n",
        "fx = lambda x, y: 1200 * x + 500*y + x**2*y - x**3 - y**2\n",
        "print('Taxa de variação: ', fx(30+1, 60)-fx(30, 60))"
      ],
      "execution_count": 5,
      "outputs": [
        {
          "output_type": "stream",
          "text": [
            "Análise marginal:  2100\n",
            "Taxa de variação:  2069\n"
          ],
          "name": "stdout"
        }
      ]
    },
    {
      "cell_type": "markdown",
      "metadata": {
        "id": "rPHO8E2PCUtU",
        "colab_type": "text"
      },
      "source": [
        "**Problema 02:** Um empresário calcula que, quando xunidades de um certo produto são\n",
        "fabricadas, o lucro é dado por **f(x) = - 400x2+ 6.800x-12.000** reais. Qual é a taxa de\n",
        "variação do lucro em relação ao nível de produção xquando estão sendo produzidas\n",
        "**9.000 unidades**? **Justifique a resposta.**"
      ]
    },
    {
      "cell_type": "code",
      "metadata": {
        "id": "PCujU-E9Qvna",
        "colab_type": "code",
        "colab": {
          "base_uri": "https://localhost:8080/",
          "height": 71
        },
        "outputId": "488cb633-14bb-42c4-8780-cdd967bf49ef"
      },
      "source": [
        "f = -400 * simb_x**2 + 6800*simb_x - 12000\n",
        "linha_f = sp.diff(f, simb_x)\n",
        "print(linha_f)\n",
        "taxa = lambda x: eval(str(linha_f))\n",
        "print(taxa(9000))\n",
        "\n",
        "fx = lambda x: -400 * x**2 + 6800 * x - 12000\n",
        "print('Prova: ', fx(9001)-fx(9000))"
      ],
      "execution_count": 6,
      "outputs": [
        {
          "output_type": "stream",
          "text": [
            "-800*x + 6800\n",
            "-7193200\n",
            "Prova:  -7193600\n"
          ],
          "name": "stdout"
        }
      ]
    },
    {
      "cell_type": "markdown",
      "metadata": {
        "id": "td3QbYECTh5d",
        "colab_type": "text"
      },
      "source": [
        "**Justificando: ** após aplicar a derivada na função destinada ao lucro e aplicar as 9 mil unidades produzidas nela, o resultado foi -7193200. Semelhante a diferença entre os lucros de produção de 9001 e 9000 unidades, assim afirmando o resultado da solução."
      ]
    },
    {
      "cell_type": "markdown",
      "metadata": {
        "id": "ZuNAGykxDAR1",
        "colab_type": "text"
      },
      "source": [
        "**Problema 03:** ÁREA SUPERFICIAL DO CORPO HUMANO É dada pela expressão\n",
        "empírica S(W, H) = 0,0072W0,425 H\n",
        "0,725 **bold text** , onde **W (Kg) e H(cm)**, são, respectivamente, o\n",
        "peso e a altura da pessoa. No momento, uma certa criança pesa **34Kg e tem 1m e 20cm**\n",
        "de altura."
      ]
    },
    {
      "cell_type": "markdown",
      "metadata": {
        "id": "_T75BpmKU-1v",
        "colab_type": "text"
      },
      "source": [
        "a) Determine os dados do problema.\n"
      ]
    },
    {
      "cell_type": "markdown",
      "metadata": {
        "id": "90fui0hwaJ79",
        "colab_type": "text"
      },
      "source": [
        "A criança pesa 34 kg A criança tem 120 cm de altura. O objetivo do problema é estimar qual será a variação da área superficial se a criança engorda 1 kg e a altura permanecer a mesma."
      ]
    },
    {
      "cell_type": "markdown",
      "metadata": {
        "id": "h2IQi7AcVBC9",
        "colab_type": "text"
      },
      "source": [
        "b) Calcule as derivadas parciais Sw(50,163) e SH(50, 163) e interprete-as como taxas\n",
        "de variação. "
      ]
    },
    {
      "cell_type": "code",
      "metadata": {
        "id": "c2337nl3VEiQ",
        "colab_type": "code",
        "colab": {
          "base_uri": "https://localhost:8080/",
          "height": 107
        },
        "outputId": "3b71987d-1104-42dc-fdcc-528291f3c4cd"
      },
      "source": [
        "fw = lambda w,h: (0.00306*w**(-0.575)) * h**0.725\n",
        "fh = lambda w,h: 0.00522*w**0.425 * h**(-0.275)\n",
        "print('Derivação parcial em w: (0.00306*w**(-0.575)) * h**0.725')\n",
        "print('Variação: ', fw(50,163))\n",
        "print('\\nDerivação parcial em h: 0.00522*w**0.425 * h**(-0.275)')\n",
        "print('Variação: ', fh(50,163))"
      ],
      "execution_count": 11,
      "outputs": [
        {
          "output_type": "stream",
          "text": [
            "Derivação parcial em w: (0.00306*w**(-0.575)) * h**0.725\n",
            "Variação:  0.012961333555455532\n",
            "\n",
            "Derivação parcial em h: 0.00522*w**0.425 * h**(-0.275)\n",
            "Variação:  0.006782365086759479\n"
          ],
          "name": "stdout"
        }
      ]
    },
    {
      "cell_type": "markdown",
      "metadata": {
        "id": "77SG31rrVC3Y",
        "colab_type": "text"
      },
      "source": [
        "c) Estime qual será a variação da área superficial se a criança engordar 1 Kg e altura\n",
        "permanecer inalterada."
      ]
    },
    {
      "cell_type": "code",
      "metadata": {
        "id": "myF47NFoVFRt",
        "colab_type": "code",
        "colab": {
          "base_uri": "https://localhost:8080/",
          "height": 35
        },
        "outputId": "1f98f625-230f-47e2-cdb0-61521d42a999"
      },
      "source": [
        "f1 = lambda w,h: (0.0072*w**0.425)*(h**0.725)\n",
        "print('Variação de área superficial da criança que engordou: ', f1(35,120)-f1(34,120))"
      ],
      "execution_count": 13,
      "outputs": [
        {
          "output_type": "stream",
          "text": [
            "Variação de área superficial da criança que engordou:  0.012849777854716526\n"
          ],
          "name": "stdout"
        }
      ]
    }
  ]
}